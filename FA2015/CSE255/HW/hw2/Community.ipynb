{
 "cells": [
  {
   "cell_type": "code",
   "execution_count": 1,
   "metadata": {
    "collapsed": true
   },
   "outputs": [],
   "source": [
    "import networkx as nx\n",
    "import math\n",
    "import copy\n",
    "from operator import itemgetter, attrgetter"
   ]
  },
  {
   "cell_type": "code",
   "execution_count": 2,
   "metadata": {
    "collapsed": true
   },
   "outputs": [],
   "source": [
    "G = nx.Graph()"
   ]
  },
  {
   "cell_type": "code",
   "execution_count": 3,
   "metadata": {
    "collapsed": false
   },
   "outputs": [],
   "source": [
    "with open('./egonet.txt', 'r') as file:\n",
    "    for line in file:\n",
    "        line = line.strip().split(' ')\n",
    "        G.add_edge(line[0], line[1])"
   ]
  },
  {
   "cell_type": "code",
   "execution_count": 17,
   "metadata": {
    "collapsed": false
   },
   "outputs": [],
   "source": [
    "components = nx.connected_components(G)"
   ]
  },
  {
   "cell_type": "code",
   "execution_count": 18,
   "metadata": {
    "collapsed": false
   },
   "outputs": [
    {
     "name": "stdout",
     "output_type": "stream",
     "text": [
      "3\n"
     ]
    }
   ],
   "source": [
    "compos = sorted(components, key=len, reverse=True)\n",
    "print len(compos)"
   ]
  },
  {
   "cell_type": "code",
   "execution_count": 19,
   "metadata": {
    "collapsed": false
   },
   "outputs": [],
   "source": [
    "gNodes = compos[0]"
   ]
  },
  {
   "cell_type": "code",
   "execution_count": 20,
   "metadata": {
    "collapsed": false
   },
   "outputs": [],
   "source": [
    "g = G.subgraph(list(gNodes))"
   ]
  },
  {
   "cell_type": "code",
   "execution_count": 21,
   "metadata": {
    "collapsed": false
   },
   "outputs": [
    {
     "name": "stdout",
     "output_type": "stream",
     "text": [
      "40\n"
     ]
    }
   ],
   "source": [
    "print g.number_of_nodes()\n",
    "nodes1 = sorted(g.nodes(),reverse=True)[0:len(g.nodes())/2]\n",
    "nodes2 = sorted(g.nodes(),reverse=True)[len(g.nodes())/2:]"
   ]
  },
  {
   "cell_type": "code",
   "execution_count": 24,
   "metadata": {
    "collapsed": true
   },
   "outputs": [],
   "source": [
    "def cut(nodesList, nodes, g):\n",
    "    res = 0.0\n",
    "    for i in nodesList:\n",
    "        g1 = g.subgraph(i)\n",
    "        leftNodes = []\n",
    "        for x in g.nodes():\n",
    "            if x not in i:\n",
    "                leftNodes.append(x)\n",
    "        g2 = g.subgraph(leftNodes)\n",
    "        numEdgesCrossed = (g.number_of_edges()-g1.number_of_edges()-g2.number_of_edges())*1.0\n",
    "        res = res + numEdgesCrossed/sum(g.degree(i).values())\n",
    "    return res/len(nodesList)"
   ]
  },
  {
   "cell_type": "code",
   "execution_count": 29,
   "metadata": {
    "collapsed": false
   },
   "outputs": [
    {
     "data": {
      "text/plain": [
       "0.42240587695133147"
      ]
     },
     "execution_count": 29,
     "metadata": {},
     "output_type": "execute_result"
    }
   ],
   "source": [
    "cut([nodes1, nodes2], g.nodes(), g)"
   ]
  },
  {
   "cell_type": "code",
   "execution_count": 30,
   "metadata": {
    "collapsed": true
   },
   "outputs": [],
   "source": [
    "cost = lastcost = 100"
   ]
  },
  {
   "cell_type": "code",
   "execution_count": 31,
   "metadata": {
    "collapsed": false
   },
   "outputs": [
    {
     "name": "stdout",
     "output_type": "stream",
     "text": [
      "0.387331966279\n",
      "0.345454545455\n",
      "0.306834030683\n",
      "0.266632646552\n",
      "0.225769121597\n",
      "0.178764897075\n",
      "0.147143614936\n",
      "0.1295001295\n",
      "0.111295801113\n",
      "0.0981704596162\n"
     ]
    }
   ],
   "source": [
    "while True:\n",
    "    lastcost = cost\n",
    "    costs = {}\n",
    "    for i in g.nodes():\n",
    "        nodesTmp1 = copy.deepcopy(nodes1)\n",
    "        nodesTmp2 = copy.deepcopy(nodes2)\n",
    "        if i in nodesTmp1:\n",
    "            nodesTmp1.remove(i)\n",
    "            nodesTmp2.append(i)\n",
    "        else:\n",
    "            nodesTmp2.remove(i)\n",
    "            nodesTmp1.append(i)\n",
    "        costs[i] = cut([nodesTmp1, nodesTmp2], g.nodes(), g)\n",
    "    minimum = sorted(costs.items(), key=itemgetter(1, 0))[0]\n",
    "    node = minimum[0]\n",
    "    cost = minimum[1]\n",
    "    if lastcost<cost:\n",
    "        break\n",
    "    if node in nodes1:\n",
    "        nodes1.remove(node)\n",
    "        nodes2.append(node)\n",
    "    else:\n",
    "        nodes2.remove(node)\n",
    "        nodes1.append(node)\n",
    "    lastcost = cost\n",
    "    print cost\n"
   ]
  },
  {
   "cell_type": "code",
   "execution_count": 32,
   "metadata": {
    "collapsed": false
   },
   "outputs": [
    {
     "name": "stdout",
     "output_type": "stream",
     "text": [
      "['893', '889', '888', '886', '884', '882', '878', '876', '864', '863', '861', '825', '729', '804']\n"
     ]
    }
   ],
   "source": [
    "print nodes1"
   ]
  },
  {
   "cell_type": "code",
   "execution_count": 33,
   "metadata": {
    "collapsed": false
   },
   "outputs": [
    {
     "name": "stdout",
     "output_type": "stream",
     "text": [
      "['819', '811', '810', '805', '803', '800', '798', '774', '772', '769', '753', '747', '745', '719', '713', '708', '703', '697', '828', '823', '830', '840', '880', '890', '869', '856']\n"
     ]
    }
   ],
   "source": [
    "print nodes2"
   ]
  },
  {
   "cell_type": "code",
   "execution_count": 34,
   "metadata": {
    "collapsed": false
   },
   "outputs": [
    {
     "name": "stdout",
     "output_type": "stream",
     "text": [
      "0.0981704596162\n"
     ]
    }
   ],
   "source": [
    "print lastcost"
   ]
  },
  {
   "cell_type": "code",
   "execution_count": 42,
   "metadata": {
    "collapsed": true
   },
   "outputs": [],
   "source": [
    "g = G.subgraph(list(gNodes))\n",
    "nodes1 = sorted(g.nodes(),reverse=True)[0:len(g.nodes())/4]\n",
    "nodes2 = sorted(g.nodes(),reverse=True)[len(g.nodes())/4:len(g.nodes())/2]\n",
    "nodes3 = sorted(g.nodes(),reverse=True)[len(g.nodes())/2:3*len(g.nodes())/4]\n",
    "nodes4 = sorted(g.nodes(),reverse=True)[3*len(g.nodes())/4:]"
   ]
  },
  {
   "cell_type": "code",
   "execution_count": 43,
   "metadata": {
    "collapsed": false
   },
   "outputs": [
    {
     "data": {
      "text/plain": [
       "[['893', '890', '889', '888', '886', '884', '882', '880', '878', '876'],\n",
       " ['869', '864', '863', '861', '856', '840', '830', '828', '825', '823'],\n",
       " ['819', '811', '810', '805', '804', '803', '800', '798', '774', '772'],\n",
       " ['769', '753', '747', '745', '729', '719', '713', '708', '703', '697']]"
      ]
     },
     "execution_count": 43,
     "metadata": {},
     "output_type": "execute_result"
    }
   ],
   "source": [
    "nodesList = [nodes1, nodes2, nodes3, nodes4]\n",
    "nodesList"
   ]
  },
  {
   "cell_type": "code",
   "execution_count": 44,
   "metadata": {
    "collapsed": false
   },
   "outputs": [],
   "source": [
    "cost = 100"
   ]
  },
  {
   "cell_type": "code",
   "execution_count": 45,
   "metadata": {
    "collapsed": false
   },
   "outputs": [
    {
     "data": {
      "text/plain": [
       "[['893', '890', '889', '888', '886', '884', '882', '880', '878', '876'],\n",
       " ['869', '864', '863', '861', '856', '840', '830', '828', '825', '823'],\n",
       " ['819', '811', '810', '805', '804', '803', '800', '798', '774', '772'],\n",
       " ['769', '753', '747', '745', '729', '719', '713', '708', '703', '697']]"
      ]
     },
     "execution_count": 45,
     "metadata": {},
     "output_type": "execute_result"
    }
   ],
   "source": [
    "nodesList"
   ]
  },
  {
   "cell_type": "code",
   "execution_count": 46,
   "metadata": {
    "collapsed": false
   },
   "outputs": [
    {
     "name": "stdout",
     "output_type": "stream",
     "text": [
      "0.666533524658\n",
      "0.639180668895\n",
      "0.61682214782\n",
      "0.59448576987\n",
      "0.572027796359\n",
      "0.553075594838\n",
      "0.544056908092\n",
      "0.535564629102\n",
      "0.517640714933\n",
      "0.505974208002\n",
      "0.492165518385\n",
      "0.478326262586\n",
      "0.455956811413\n",
      "0.419263095974\n",
      "0.358774671355\n",
      "0.346977632297\n",
      "0.342568840425\n",
      "0.338007726331\n",
      "0.330746981227\n",
      "0.32619984914\n",
      "0.319538648387\n",
      "0.315004525746\n",
      "0.309676395068\n",
      "0.303778511183\n",
      "0.299333964489\n",
      "0.294127633184\n",
      "0.289986884569\n",
      "0.280598888492\n"
     ]
    }
   ],
   "source": [
    "while True:\n",
    "    lastcost = cost\n",
    "    costs = []\n",
    "    \n",
    "    for i in g.nodes():\n",
    "        num = 0;\n",
    "        for j in xrange(len(nodesList)):\n",
    "            if i in nodesList[j]:\n",
    "                num = j\n",
    "                break\n",
    "        nodesTmp = []\n",
    "        for j in nodesList:\n",
    "            nodesTmp.append(copy.deepcopy(j))\n",
    "        nodesTmp[num].remove(i)\n",
    "        for j in xrange(len(nodesList)):\n",
    "            if j == num:\n",
    "                localcost.append([10000, min(nodesList[j]), num, j, i])\n",
    "            else:\n",
    "                tmptmp = copy.deepcopy(nodesTmp[j])\n",
    "                nodesTmp[j].append(i)\n",
    "                costs.append([cut(nodesTmp, g.nodes(), g), min(tmptmp), num, j, i])\n",
    "                nodesTmp[j].remove(i)\n",
    "        \n",
    "    minimum = sorted(costs, key=itemgetter(0, 4, 2))[0]\n",
    "    cost = minimum[0]\n",
    "    node = minimum[4]\n",
    "    fromG = minimum[2]\n",
    "    toG = minimum[3]\n",
    "    if lastcost < cost:\n",
    "        break\n",
    "    nodesList[fromG].remove(node)\n",
    "    nodesList[toG].append(node)\n",
    "    lastcost = cost\n",
    "    print cost\n",
    "    \n",
    "\n"
   ]
  },
  {
   "cell_type": "code",
   "execution_count": 47,
   "metadata": {
    "collapsed": false
   },
   "outputs": [
    {
     "data": {
      "text/plain": [
       "[['889', '888', '886', '882', '878', '876', '804', '729', '863', '861'],\n",
       " ['864', '825', '884', '893'],\n",
       " ['811', '798', '869', '769', '890', '708', '753'],\n",
       " ['747',\n",
       "  '745',\n",
       "  '719',\n",
       "  '713',\n",
       "  '703',\n",
       "  '697',\n",
       "  '819',\n",
       "  '823',\n",
       "  '830',\n",
       "  '840',\n",
       "  '805',\n",
       "  '880',\n",
       "  '803',\n",
       "  '828',\n",
       "  '810',\n",
       "  '772',\n",
       "  '800',\n",
       "  '774',\n",
       "  '856']]"
      ]
     },
     "execution_count": 47,
     "metadata": {},
     "output_type": "execute_result"
    }
   ],
   "source": [
    "nodesList"
   ]
  },
  {
   "cell_type": "code",
   "execution_count": 48,
   "metadata": {
    "collapsed": false
   },
   "outputs": [
    {
     "data": {
      "text/plain": [
       "0.28428826780006183"
      ]
     },
     "execution_count": 48,
     "metadata": {},
     "output_type": "execute_result"
    }
   ],
   "source": [
    "cost"
   ]
  },
  {
   "cell_type": "code",
   "execution_count": null,
   "metadata": {
    "collapsed": true
   },
   "outputs": [],
   "source": []
  }
 ],
 "metadata": {
  "kernelspec": {
   "display_name": "Python 2",
   "language": "python",
   "name": "python2"
  },
  "language_info": {
   "codemirror_mode": {
    "name": "ipython",
    "version": 2
   },
   "file_extension": ".py",
   "mimetype": "text/x-python",
   "name": "python",
   "nbconvert_exporter": "python",
   "pygments_lexer": "ipython2",
   "version": "2.7.10"
  }
 },
 "nbformat": 4,
 "nbformat_minor": 0
}
