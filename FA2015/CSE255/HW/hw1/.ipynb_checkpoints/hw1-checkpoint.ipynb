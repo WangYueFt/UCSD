{
 "cells": [
  {
   "cell_type": "code",
   "execution_count": 79,
   "metadata": {
    "collapsed": true
   },
   "outputs": [],
   "source": [
    "import numpy as np"
   ]
  },
  {
   "cell_type": "code",
   "execution_count": 80,
   "metadata": {
    "collapsed": true
   },
   "outputs": [],
   "source": [
    "import urllib"
   ]
  },
  {
   "cell_type": "code",
   "execution_count": 81,
   "metadata": {
    "collapsed": true
   },
   "outputs": [],
   "source": [
    "import scipy.optimize"
   ]
  },
  {
   "cell_type": "code",
   "execution_count": 82,
   "metadata": {
    "collapsed": true
   },
   "outputs": [],
   "source": [
    "import random\n",
    "from sklearn import datasets, linear_model"
   ]
  },
  {
   "cell_type": "code",
   "execution_count": 83,
   "metadata": {
    "collapsed": true
   },
   "outputs": [],
   "source": [
    "def parseData(fname):\n",
    "  for l in urllib.urlopen(fname):\n",
    "    yield eval(l)"
   ]
  },
  {
   "cell_type": "code",
   "execution_count": 84,
   "metadata": {
    "collapsed": false
   },
   "outputs": [
    {
     "name": "stdout",
     "output_type": "stream",
     "text": [
      "Reading data...\n",
      "done\n"
     ]
    }
   ],
   "source": [
    "print \"Reading data...\"\n",
    "data = list(parseData(\"file:///Users/YW/Dropbox/UCSD/FA2015/CSE255/HW/hw1/beer_50000.json\"))\n",
    "print \"done\""
   ]
  },
  {
   "cell_type": "code",
   "execution_count": 85,
   "metadata": {
    "collapsed": true
   },
   "outputs": [],
   "source": [
    "def feature(datum):\n",
    "  feat = [1]\n",
    "  feat.append(datum['beer/ABV'])\n",
    "  return feat"
   ]
  },
  {
   "cell_type": "code",
   "execution_count": 86,
   "metadata": {
    "collapsed": true
   },
   "outputs": [],
   "source": [
    "X = [feature(d) for d in data]"
   ]
  },
  {
   "cell_type": "code",
   "execution_count": 87,
   "metadata": {
    "collapsed": false
   },
   "outputs": [],
   "source": [
    "y = [d['review/taste'] for d in data]"
   ]
  },
  {
   "cell_type": "code",
   "execution_count": 88,
   "metadata": {
    "collapsed": false
   },
   "outputs": [],
   "source": [
    "theta, residuals, rank, s = np.linalg.lstsq(X, y)"
   ]
  },
  {
   "cell_type": "code",
   "execution_count": 89,
   "metadata": {
    "collapsed": false
   },
   "outputs": [
    {
     "name": "stdout",
     "output_type": "stream",
     "text": [
      "Theta0:3.11521115232, Theta1:0.109055074172\n"
     ]
    }
   ],
   "source": [
    "print 'Theta0:%s, Theta1:%s'%(theta[0], theta[1])"
   ]
  },
  {
   "cell_type": "code",
   "execution_count": 90,
   "metadata": {
    "collapsed": false
   },
   "outputs": [
    {
     "name": "stdout",
     "output_type": "stream",
     "text": [
      "[[ 3.11521115]\n",
      " [ 0.10905507]]\n"
     ]
    }
   ],
   "source": [
    "X1 = np.matrix(X)\n",
    "y1 = np.matrix(y)\n",
    "print np.linalg.inv(X1.T * X1) * X1.T * y1.T"
   ]
  },
  {
   "cell_type": "code",
   "execution_count": 91,
   "metadata": {
    "collapsed": true
   },
   "outputs": [],
   "source": [
    "def feature5(datum):\n",
    "    feat = [1]\n",
    "    feat.append(datum['beer/ABV'])\n",
    "    feat.append(datum['beer/ABV']**2)\n",
    "    feat.append(datum['beer/ABV']**3)\n",
    "    feat.append(datum['beer/ABV']**3)\n",
    "    feat.append(datum['beer/ABV']**4)\n",
    "    feat.append(datum['beer/ABV']**5)\n",
    "    return feat"
   ]
  },
  {
   "cell_type": "code",
   "execution_count": 92,
   "metadata": {
    "collapsed": false
   },
   "outputs": [],
   "source": [
    "X5 = [feature5(d) for d in data]"
   ]
  },
  {
   "cell_type": "code",
   "execution_count": 93,
   "metadata": {
    "collapsed": false
   },
   "outputs": [],
   "source": [
    "y5 = [d['review/taste'] for d in data]"
   ]
  },
  {
   "cell_type": "code",
   "execution_count": 94,
   "metadata": {
    "collapsed": false
   },
   "outputs": [],
   "source": [
    "theta, residuals, rank, s = np.linalg.lstsq(X5, y5)"
   ]
  },
  {
   "cell_type": "code",
   "execution_count": 95,
   "metadata": {
    "collapsed": false
   },
   "outputs": [
    {
     "name": "stdout",
     "output_type": "stream",
     "text": [
      "[  1.40998006e+00   6.71979699e-01  -5.57829661e-02   9.75994189e-04\n",
      "   9.75994462e-04  -3.03848617e-05   1.73376523e-07] [] 6 [  6.93445085e+08   2.18490120e+06   1.08078877e+05   2.18415615e+03\n",
      "   9.97348719e+01   5.73258342e+00   3.61114832e-09]\n"
     ]
    }
   ],
   "source": [
    "print theta, residuals, rank, s\n"
   ]
  },
  {
   "cell_type": "code",
   "execution_count": 96,
   "metadata": {
    "collapsed": true
   },
   "outputs": [],
   "source": [
    "regr = linear_model.LinearRegression(fit_intercept=False)"
   ]
  },
  {
   "cell_type": "code",
   "execution_count": 97,
   "metadata": {
    "collapsed": false
   },
   "outputs": [
    {
     "data": {
      "text/plain": [
       "LinearRegression(copy_X=True, fit_intercept=False, n_jobs=1, normalize=False)"
      ]
     },
     "execution_count": 97,
     "metadata": {},
     "output_type": "execute_result"
    }
   ],
   "source": [
    "regr.fit(X5, y5)"
   ]
  },
  {
   "cell_type": "code",
   "execution_count": 98,
   "metadata": {
    "collapsed": false
   },
   "outputs": [
    {
     "name": "stdout",
     "output_type": "stream",
     "text": [
      "Coefficients:[  1.40998006e+00   6.71979699e-01  -5.57829661e-02   9.75994189e-04\n",
      "   9.75994462e-04  -3.03848617e-05   1.73376523e-07]\n",
      "\n"
     ]
    }
   ],
   "source": [
    "print 'Coefficients:%s\\n'%regr.coef_ "
   ]
  },
  {
   "cell_type": "code",
   "execution_count": 101,
   "metadata": {
    "collapsed": false
   },
   "outputs": [
    {
     "name": "stdout",
     "output_type": "stream",
     "text": [
      "Residual sum of squares: 0.44\n"
     ]
    }
   ],
   "source": [
    "print 'Residual sum of squares: %.2f' % np.mean((regr.predict(X5) - y5) ** 2)"
   ]
  },
  {
   "cell_type": "code",
   "execution_count": 102,
   "metadata": {
    "collapsed": true
   },
   "outputs": [],
   "source": [
    "train = data[:25000]\n",
    "test = data[0:25000]"
   ]
  },
  {
   "cell_type": "code",
   "execution_count": 133,
   "metadata": {
    "collapsed": true
   },
   "outputs": [],
   "source": [
    "def features(datum, degree):\n",
    "    feat = [1]\n",
    "    for i in xrange(1, degree+1):\n",
    "        feat.append(datum['beer/ABV']**i)\n",
    "    return feat"
   ]
  },
  {
   "cell_type": "code",
   "execution_count": 134,
   "metadata": {
    "collapsed": true
   },
   "outputs": [],
   "source": [
    "lastTestingError = 0"
   ]
  },
  {
   "cell_type": "code",
   "execution_count": 135,
   "metadata": {
    "collapsed": true
   },
   "outputs": [],
   "source": [
    "deg = 1"
   ]
  },
  {
   "cell_type": "code",
   "execution_count": 136,
   "metadata": {
    "collapsed": false
   },
   "outputs": [],
   "source": [
    "while True:\n",
    "    regr = linear_model.LinearRegression(fit_intercept=False)\n",
    "    X = [features(d, deg) for d in train]\n",
    "    y = [d['review/taste'] for d in train]\n",
    "    X_test = [features(d, deg) for d in test]\n",
    "    y_test = [d['review/taste'] for d in test]\n",
    "    regr.fit(X, y)\n",
    "    thisTestingError = np.mean((regr.predict(X_test) - y_test) ** 2)\n",
    "    if np.fabs(thisTestingError-lastTestingError) < 0.0000001:\n",
    "        break\n",
    "    deg = deg + 1\n",
    "    lastTestingError = thisTestingError"
   ]
  },
  {
   "cell_type": "code",
   "execution_count": 137,
   "metadata": {
    "collapsed": false
   },
   "outputs": [
    {
     "name": "stdout",
     "output_type": "stream",
     "text": [
      "[  1.64894882e-65   6.64820094e-37   2.74505597e-42   3.64628330e-45\n",
      "   2.79979174e-48   2.45812076e-56   1.37076275e-56   4.17484002e-55\n",
      "   1.26722601e-53   3.83031475e-52   1.15162984e-50   3.43950904e-49\n",
      "   1.01865908e-47   2.98494873e-46   8.62885163e-45   2.45132384e-43\n",
      "   6.80796256e-42   1.83513138e-40   4.75175486e-39   1.16365255e-37\n",
      "   2.62880414e-36   5.24363557e-35   8.44308082e-34   8.56448125e-33\n",
      "  -5.66643539e-34   1.23133325e-35  -8.78628282e-38]\n"
     ]
    }
   ],
   "source": [
    "print regr.coef_"
   ]
  },
  {
   "cell_type": "code",
   "execution_count": 138,
   "metadata": {
    "collapsed": false
   },
   "outputs": [
    {
     "name": "stdout",
     "output_type": "stream",
     "text": [
      "15.8358415497\n",
      "15.8358416122\n"
     ]
    }
   ],
   "source": [
    "print lastTestingError\n",
    "print thisTestingError"
   ]
  },
  {
   "cell_type": "code",
   "execution_count": null,
   "metadata": {
    "collapsed": true
   },
   "outputs": [],
   "source": []
  },
  {
   "cell_type": "code",
   "execution_count": null,
   "metadata": {
    "collapsed": true
   },
   "outputs": [],
   "source": []
  }
 ],
 "metadata": {
  "kernelspec": {
   "display_name": "Python 2",
   "language": "python",
   "name": "python2"
  },
  "language_info": {
   "codemirror_mode": {
    "name": "ipython",
    "version": 2
   },
   "file_extension": ".py",
   "mimetype": "text/x-python",
   "name": "python",
   "nbconvert_exporter": "python",
   "pygments_lexer": "ipython2",
   "version": "2.7.10"
  }
 },
 "nbformat": 4,
 "nbformat_minor": 0
}
