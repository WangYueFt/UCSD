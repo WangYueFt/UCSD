{
 "cells": [
  {
   "cell_type": "code",
   "execution_count": 4,
   "metadata": {
    "collapsed": true
   },
   "outputs": [],
   "source": [
    "import numpy\n",
    "import urllib\n",
    "import scipy.optimize\n",
    "import randomfrom sklearn import svm\n",
    "from math import exp\n",
    "from math import log"
   ]
  },
  {
   "cell_type": "code",
   "execution_count": 167,
   "metadata": {
    "collapsed": true
   },
   "outputs": [],
   "source": [
    "def parseData(fname):\n",
    "  for l in urllib.urlopen(fname):\n",
    "    yield eval(l)"
   ]
  },
  {
   "cell_type": "code",
   "execution_count": 168,
   "metadata": {
    "collapsed": false
   },
   "outputs": [
    {
     "name": "stdout",
     "output_type": "stream",
     "text": [
      "Reading data...\n",
      "done\n"
     ]
    }
   ],
   "source": [
    "print \"Reading data...\"\n",
    "data = list(parseData(\"file:///users/YW/Dropbox/UCSD/FA2015/CSE255/HW/hw1/book_descriptions_50000.json\"))\n",
    "print \"done\""
   ]
  },
  {
   "cell_type": "code",
   "execution_count": 222,
   "metadata": {
    "collapsed": true
   },
   "outputs": [],
   "source": [
    "D_child = [d for d in data if \"Children's Books\" in d['categories']]\n",
    "D_notchild =\\\n",
    "  [d for d in data if not(\"Children's Books\" in d['categories'])][:len(D_child)]\n",
    "data = D_child + D_notchild\n",
    "random.seed(0)\n",
    "random.shuffle(data)"
   ]
  },
  {
   "cell_type": "code",
   "execution_count": 223,
   "metadata": {
    "collapsed": false
   },
   "outputs": [],
   "source": [
    "X = [[1, \"child\" in s['description'],\n",
    "         \"magic\" in s['description'],\n",
    "         \"funny\" in s['description'],] for s in data]"
   ]
  },
  {
   "cell_type": "code",
   "execution_count": 224,
   "metadata": {
    "collapsed": false
   },
   "outputs": [],
   "source": [
    "y = [\"Children's Books\" in d['categories'] for d in data]"
   ]
  },
  {
   "cell_type": "code",
   "execution_count": 225,
   "metadata": {
    "collapsed": false
   },
   "outputs": [],
   "source": [
    "X_train = X[:len(X)/2]\n",
    "X_test = X[len(X)/2:]"
   ]
  },
  {
   "cell_type": "code",
   "execution_count": 226,
   "metadata": {
    "collapsed": true
   },
   "outputs": [],
   "source": [
    "y_train = y[:len(X)/2]\n",
    "y_test = y[len(y)/2:]"
   ]
  },
  {
   "cell_type": "code",
   "execution_count": 227,
   "metadata": {
    "collapsed": false
   },
   "outputs": [],
   "source": [
    "clf = svm.SVC(C=1000)"
   ]
  },
  {
   "cell_type": "code",
   "execution_count": 228,
   "metadata": {
    "collapsed": false
   },
   "outputs": [
    {
     "data": {
      "text/plain": [
       "SVC(C=1000, cache_size=200, class_weight=None, coef0=0.0, degree=3, gamma=0.0,\n",
       "  kernel='rbf', max_iter=-1, probability=False, random_state=None,\n",
       "  shrinking=True, tol=0.001, verbose=False)"
      ]
     },
     "execution_count": 228,
     "metadata": {},
     "output_type": "execute_result"
    }
   ],
   "source": [
    "clf.fit(X_train, y_train)"
   ]
  },
  {
   "cell_type": "code",
   "execution_count": 229,
   "metadata": {
    "collapsed": false
   },
   "outputs": [],
   "source": [
    "train_predictions = clf.predict(X_train)\n",
    "test_predictions = clf.predict(X_test)"
   ]
  },
  {
   "cell_type": "code",
   "execution_count": 230,
   "metadata": {
    "collapsed": false
   },
   "outputs": [
    {
     "name": "stdout",
     "output_type": "stream",
     "text": [
      "Train Error:0.253, Test Error:0.260\n"
     ]
    }
   ],
   "source": [
    "print 'Train Error:%.3f, Test Error:%.3f'%(numpy.mean(train_predictions!=y_train), numpy.mean(test_predictions!=y_test))"
   ]
  },
  {
   "cell_type": "code",
   "execution_count": 231,
   "metadata": {
    "collapsed": false
   },
   "outputs": [
    {
     "name": "stdout",
     "output_type": "stream",
     "text": [
      "Train Error:0.233, Test Error:0.250\n"
     ]
    }
   ],
   "source": [
    "X = [[1, \"child\" in s['description'],\n",
    "         \"magic\" in s['description'],\n",
    "         \"funny\" in s['description'],\n",
    "         \"kid\" in s['description'],\n",
    "         \"dog\" in s['description'],\n",
    "         \"cat\" in s['description'],\n",
    "         \"education\" in s['description'],\n",
    "         \"pat\" in s['description'],\n",
    "         \"grow\" in s['description']] for s in data]\n",
    "y = [\"Children's Books\" in d['categories'] for d in data]\n",
    "X_train = X[:len(X)/2]\n",
    "X_test = X[len(X)/2:len(X)]\n",
    "y_train = y[:len(X)/2]\n",
    "y_test = y[len(y)/2:len(y)]\n",
    "clf = svm.SVC(C=1000)\n",
    "clf.fit(X_train, y_train)\n",
    "train_predictions = clf.predict(X_train)\n",
    "test_predictions = clf.predict(X_test)\n",
    "print 'Train Error:%.3f, Test Error:%.3f'%(numpy.mean(train_predictions!=y_train), numpy.mean(test_predictions!=y_test))"
   ]
  },
  {
   "cell_type": "code",
   "execution_count": 232,
   "metadata": {
    "collapsed": false
   },
   "outputs": [
    {
     "name": "stdout",
     "output_type": "stream",
     "text": [
      "c=0.0001, Train Error:0.492, Valid Error:0.509, Test Error:0.507\n",
      "c=0.001, Train Error:0.492, Valid Error:0.509, Test Error:0.507\n",
      "c=0.01, Train Error:0.253, Valid Error:0.264, Test Error:0.260\n",
      "c=0.1, Train Error:0.253, Valid Error:0.264, Test Error:0.260\n",
      "c=1, Train Error:0.253, Valid Error:0.264, Test Error:0.260\n",
      "c=10, Train Error:0.253, Valid Error:0.262, Test Error:0.256\n",
      "c=100, Train Error:0.253, Valid Error:0.263, Test Error:0.256\n",
      "c=1000, Train Error:0.253, Valid Error:0.263, Test Error:0.256\n"
     ]
    }
   ],
   "source": [
    "X = [[1, \"child\" in s['description'],\n",
    "         \"magic\" in s['description'],\n",
    "         \"funny\" in s['description'],] for s in data]\n",
    "y = [\"Children's Books\" in d['categories'] for d in data]\n",
    "Cs = [0.0001, 0.001, 0.01, 0.1, 1, 10, 100, 1000]\n",
    "for c in Cs:\n",
    "    X_train = X[:len(X)/2]\n",
    "    X_valid = X[len(X)/2:3*len(X)/4]\n",
    "    X_test = X[3*len(X)/4:]\n",
    "    y_train = y[:len(y)/2]\n",
    "    y_valid = y[len(y)/2:3*len(y)/4]\n",
    "    y_test = y[3*len(y)/4:]\n",
    "    clf = svm.SVC(C=c)\n",
    "    clf.fit(X_train, y_train)\n",
    "    train_predictions = clf.predict(X_train)\n",
    "    valid_predictions = clf.predict(X_valid)\n",
    "    test_predictions = clf.predict(X_test)\n",
    "    print 'c=%s, Train Error:%.3f, Valid Error:%.3f, Test Error:%.3f'%\\\n",
    "    (c, numpy.mean(train_predictions != y_train), \\\n",
    "     numpy.mean(valid_predictions != y_valid), \\\n",
    "     numpy.mean(test_predictions != y_test))"
   ]
  },
  {
   "cell_type": "code",
   "execution_count": null,
   "metadata": {
    "collapsed": true
   },
   "outputs": [],
   "source": []
  },
  {
   "cell_type": "code",
   "execution_count": null,
   "metadata": {
    "collapsed": true
   },
   "outputs": [],
   "source": []
  }
 ],
 "metadata": {
  "kernelspec": {
   "display_name": "Python 2",
   "language": "python",
   "name": "python2"
  },
  "language_info": {
   "codemirror_mode": {
    "name": "ipython",
    "version": 2
   },
   "file_extension": ".py",
   "mimetype": "text/x-python",
   "name": "python",
   "nbconvert_exporter": "python",
   "pygments_lexer": "ipython2",
   "version": "2.7.10"
  }
 },
 "nbformat": 4,
 "nbformat_minor": 0
}
