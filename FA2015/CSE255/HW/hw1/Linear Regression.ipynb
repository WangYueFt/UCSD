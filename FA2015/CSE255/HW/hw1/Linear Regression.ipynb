{
 "cells": [
  {
   "cell_type": "code",
   "execution_count": 2,
   "metadata": {
    "collapsed": true
   },
   "outputs": [],
   "source": [
    "import numpy as np"
   ]
  },
  {
   "cell_type": "code",
   "execution_count": 3,
   "metadata": {
    "collapsed": true
   },
   "outputs": [],
   "source": [
    "import urllib"
   ]
  },
  {
   "cell_type": "code",
   "execution_count": 4,
   "metadata": {
    "collapsed": true
   },
   "outputs": [],
   "source": [
    "import scipy.optimize"
   ]
  },
  {
   "cell_type": "code",
   "execution_count": 5,
   "metadata": {
    "collapsed": true
   },
   "outputs": [],
   "source": [
    "import random\n",
    "from sklearn import datasets, linear_model, metrics"
   ]
  },
  {
   "cell_type": "code",
   "execution_count": 6,
   "metadata": {
    "collapsed": true
   },
   "outputs": [],
   "source": [
    "def parseData(fname):\n",
    "  for l in urllib.urlopen(fname):\n",
    "    yield eval(l)"
   ]
  },
  {
   "cell_type": "code",
   "execution_count": 7,
   "metadata": {
    "collapsed": false
   },
   "outputs": [
    {
     "name": "stdout",
     "output_type": "stream",
     "text": [
      "Reading data...\n",
      "done\n"
     ]
    }
   ],
   "source": [
    "print \"Reading data...\"\n",
    "data = list(parseData(\"file:///Users/YW/Dropbox/UCSD/FA2015/CSE255/HW/hw1/beer_50000.json\"))\n",
    "print \"done\""
   ]
  },
  {
   "cell_type": "code",
   "execution_count": 9,
   "metadata": {
    "collapsed": true
   },
   "outputs": [],
   "source": [
    "def feature(datum):\n",
    "    feat = [1]\n",
    "    feat.append(datum['beer/ABV'])\n",
    "    return feat"
   ]
  },
  {
   "cell_type": "code",
   "execution_count": 10,
   "metadata": {
    "collapsed": false
   },
   "outputs": [],
   "source": [
    "X = [feature(d) for d in data]"
   ]
  },
  {
   "cell_type": "code",
   "execution_count": 11,
   "metadata": {
    "collapsed": false
   },
   "outputs": [],
   "source": [
    "y = [d['review/taste'] for d in data]"
   ]
  },
  {
   "cell_type": "code",
   "execution_count": 12,
   "metadata": {
    "collapsed": false
   },
   "outputs": [],
   "source": [
    "theta, residuals, rank, s = np.linalg.lstsq(X, y)"
   ]
  },
  {
   "cell_type": "code",
   "execution_count": 13,
   "metadata": {
    "collapsed": false
   },
   "outputs": [
    {
     "name": "stdout",
     "output_type": "stream",
     "text": [
      "Theta0:3.11521115232, Theta1:0.109055074172\n"
     ]
    }
   ],
   "source": [
    "print 'Theta0:%s, Theta1:%s'%(theta[0], theta[1])"
   ]
  },
  {
   "cell_type": "code",
   "execution_count": 14,
   "metadata": {
    "collapsed": false
   },
   "outputs": [
    {
     "name": "stdout",
     "output_type": "stream",
     "text": [
      "[[ 3.11521115]\n",
      " [ 0.10905507]]\n"
     ]
    }
   ],
   "source": [
    "X1 = np.matrix(X)\n",
    "y1 = np.matrix(y)\n",
    "print np.linalg.inv(X1.T * X1) * X1.T * y1.T"
   ]
  },
  {
   "cell_type": "code",
   "execution_count": 33,
   "metadata": {
    "collapsed": true
   },
   "outputs": [],
   "source": [
    "def features(datum, degree):\n",
    "    feat = [1]\n",
    "    for i in xrange(1, degree+1):\n",
    "        feat.append(datum['beer/ABV']**i)\n",
    "    return feat"
   ]
  },
  {
   "cell_type": "code",
   "execution_count": 34,
   "metadata": {
    "collapsed": true
   },
   "outputs": [],
   "source": [
    "deg = 0"
   ]
  },
  {
   "cell_type": "code",
   "execution_count": 38,
   "metadata": {
    "collapsed": false
   },
   "outputs": [
    {
     "name": "stdout",
     "output_type": "stream",
     "text": [
      "degree:6\\\\\n",
      "Train MSE:0.436387242825\\\\\n",
      "coefficients:[  1.17447000e+00   8.02231045e-01  -8.21260380e-02   4.40681142e-03\n",
      "  -1.39646657e-04   2.35611563e-06  -1.56119050e-08]\\\\\n"
     ]
    }
   ],
   "source": [
    "while True:\n",
    "    regr = linear_model.LinearRegression(fit_intercept=False)\n",
    "    X = [features(d, deg) for d in data]\n",
    "    y = [d['review/taste'] for d in data]\n",
    "    regr.fit(X, y)\n",
    "    thisTrainError = np.mean((regr.predict(X)-y) ** 2)\n",
    "    print \"degree:%s\\\\\\\\\"%(len(X[0])-1)\n",
    "    print \"Train MSE:%s\\\\\\\\\"% thisTrainError\n",
    "    print \"coefficients:%s\\\\\\\\\"% regr.coef_\n",
    "    deg = deg + 1\n",
    "    if deg > 5:\n",
    "        break"
   ]
  },
  {
   "cell_type": "code",
   "execution_count": 39,
   "metadata": {
    "collapsed": true
   },
   "outputs": [],
   "source": [
    "train = data[:25000]\n",
    "test = data[25000:]"
   ]
  },
  {
   "cell_type": "code",
   "execution_count": 40,
   "metadata": {
    "collapsed": true
   },
   "outputs": [],
   "source": [
    "lastTestingError = 0"
   ]
  },
  {
   "cell_type": "code",
   "execution_count": 45,
   "metadata": {
    "collapsed": true
   },
   "outputs": [],
   "source": [
    "deg = 0"
   ]
  },
  {
   "cell_type": "code",
   "execution_count": 46,
   "metadata": {
    "collapsed": false
   },
   "outputs": [
    {
     "name": "stdout",
     "output_type": "stream",
     "text": [
      "Degree:0\\\\\n",
      "Train:0.55835536\\\\\n",
      "Test:0.46912512\\\\\n",
      "Coef:[ 3.9092]\\\\\n",
      "Degree:1\\\\\n",
      "Train:0.483983105115\\\\\n",
      "Test:0.423776528023\\\\\n",
      "Coef:[ 2.99503282  0.11690802]\\\\\n",
      "Degree:2\\\\\n",
      "Train:0.471743067557\\\\\n",
      "Test:0.427256126\\\\\n",
      "Coef:[ 2.62007309  0.20716481 -0.00496806]\\\\\n",
      "Degree:3\\\\\n",
      "Train:0.457832195847\\\\\n",
      "Test:0.432820707084\\\\\n",
      "Coef:[  1.57847740e+00   5.19869113e-01  -2.97470415e-02   3.97626061e-04]\\\\\n",
      "Degree:4\\\\\n",
      "Train:0.451641221709\\\\\n",
      "Test:0.438301732573\\\\\n",
      "Coef:[  7.17629022e-01   8.26164532e-01  -6.32189636e-02   1.67076516e-03\n",
      "  -1.40075070e-05]\\\\\n",
      "Degree:5\\\\\n",
      "Train:0.451335575196\\\\\n",
      "Test:0.439820774965\\\\\n",
      "Coef:[  1.16389773e+00   6.12905604e-01  -2.85943943e-02  -6.28209940e-04\n",
      "   4.41325901e-05  -4.79191916e-07]\\\\\n",
      "Degree:6\\\\\n",
      "Train:0.450769302041\\\\\n",
      "Test:0.443012263638\\\\\n",
      "Coef:[  1.94901771e+00   1.79935890e-01   5.75772252e-02  -8.45991886e-03\n",
      "   3.82283840e-04  -7.06992367e-06   4.63100297e-08]\\\\\n",
      "Degree:7\\\\\n",
      "Train:0.45074188066\\\\\n",
      "Test:0.442575342636\\\\\n",
      "Coef:[  1.70847546e+00   3.47096902e-01   1.39022021e-02  -2.95198356e-03\n",
      "   2.49609809e-05   4.72513678e-06  -1.40946836e-07   1.12958340e-09]\\\\\n",
      "Degree:8\\\\\n",
      "Train:0.450231148043\\\\\n",
      "Test:0.442487701726\\\\\n",
      "Coef:[  3.93690397e-01   1.40863997e+00  -3.13749111e-01   4.74923395e-02\n",
      "  -4.20781201e-03   2.03296270e-04  -5.28225580e-06   6.93371692e-08\n",
      "  -3.60135053e-10]\\\\\n",
      "Degree:9\\\\\n",
      "Train:0.449716240495\\\\\n",
      "Test:0.439253459889\\\\\n",
      "Coef:[  6.57779065e-01   7.66518411e-01   4.06647965e-02  -3.84794380e-02\n",
      "   6.77043490e-03  -5.85586427e-04   2.71796542e-05  -6.83946306e-07\n",
      "   8.76795980e-09  -4.47490401e-11]\\\\\n",
      "Degree:10\\\\\n",
      "Train:0.485239771582\\\\\n",
      "Test:0.457827607951\\\\\n",
      "Coef:[  8.10035383e-03   2.95349476e-02   7.80426486e-02   1.25171126e-01\n",
      "  -4.56697918e-02   6.52647339e-03  -4.84697958e-04   2.00717535e-05\n",
      "  -4.64486475e-07   5.59715969e-09  -2.72729507e-11]\\\\\n",
      "Degree:11\\\\\n",
      "Train:0.627028248862\\\\\n",
      "Test:0.646353376223\\\\\n",
      "Coef:[  3.13393784e-04   2.12106023e-03   5.06678428e-03   1.51375880e-02\n",
      "   2.59611730e-02  -9.65927443e-03   1.37038921e-03  -1.00082775e-04\n",
      "   4.07376218e-06  -9.28854537e-08   1.10590758e-09  -5.33743373e-12]\\\\\n",
      "Degree:12\\\\\n",
      "Train:2.85408190325\\\\\n",
      "Test:4.53394584743\\\\\n",
      "Coef:[  1.20060415e-08  -1.67445314e-06   5.25536588e-07   3.21145550e-06\n",
      "   1.74858508e-05   7.57760222e-05   1.95196988e-04  -5.09012896e-05\n",
      "   4.96757208e-06  -2.38620849e-07   6.03395828e-09  -7.69501605e-11\n",
      "   3.89503838e-13]\\\\\n",
      "Degree:13\\\\\n",
      "Train:8.18203669655\\\\\n",
      "Test:10.0715024042\\\\\n",
      "Coef:[  3.95168107e-14   1.06781904e-10   3.10753427e-12   3.01578879e-11\n",
      "   2.67364021e-10   2.24185996e-09   1.68928241e-08   1.03194964e-07\n",
      "   3.87685919e-07  -6.75444710e-08   4.24511502e-09  -1.25235102e-10\n",
      "   1.76192140e-12  -9.53340770e-15]\\\\\n",
      "Degree:14\\\\\n",
      "Train:9.554158671\\\\\n",
      "Test:11.0448045432\\\\\n",
      "Coef:[  2.16639158e-16  -5.08056120e-11  -2.29606780e-14   1.97454960e-13\n",
      "   1.89012696e-12   1.75238256e-11   1.52805342e-10   1.19077076e-09\n",
      "   7.48268931e-09   2.87797828e-08  -4.94168737e-09   3.08053486e-10\n",
      "  -9.04048899e-12   1.26734339e-13  -6.83975029e-16]\\\\\n",
      "Degree:15\\\\\n",
      "Train:10.6493250888\\\\\n",
      "Test:11.7727856209\\\\\n",
      "Coef:[  1.17714518e-18  -4.45631245e-13  -4.58771397e-15   1.23856013e-15\n",
      "   1.24714430e-14   1.23881558e-13   1.18594897e-12   1.06296521e-11\n",
      "   8.47778730e-11   5.43078453e-10   2.12212634e-09  -3.59970437e-10\n",
      "   2.22832356e-11  -6.50993035e-13   9.09743964e-15  -4.89877188e-17]\\\\\n",
      "Degree:16\\\\\n",
      "Train:14.658067654\\\\\n",
      "Test:14.6303906263\\\\\n",
      "Coef:[  2.58346426e-25  -1.12064050e-15  -2.07631352e-19   6.14616717e-22\n",
      "   5.33209390e-21   6.67769289e-20   8.47113777e-19   1.08018529e-17\n",
      "   1.36403547e-16   1.65985013e-15   1.85096217e-14   1.70915296e-13\n",
      "   9.99592835e-13  -9.93492947e-14   3.61772635e-15  -5.74964411e-17\n",
      "   3.36561166e-19]\\\\\n",
      "Degree:17\\\\\n",
      "Train:15.0695872189\\\\\n",
      "Test:15.0707338786\\\\\n",
      "Coef:[  8.24007104e-28   1.23742293e-16  -3.04283198e-21  -3.21208823e-23\n",
      "   1.84267302e-23   2.36419159e-22   3.08338023e-21   4.06979631e-20\n",
      "   5.38745687e-19   7.03731870e-18   8.81727942e-17   1.00719518e-15\n",
      "   9.47871416e-15   5.62466260e-14  -5.58960316e-15   2.03534267e-16\n",
      "  -3.23472985e-18   1.89347485e-20]\\\\\n",
      "Degree:18\\\\\n",
      "Train:15.3488085966\\\\\n",
      "Test:15.3919509124\\\\\n",
      "Coef:[  2.42412870e-30  -7.77039051e-18   4.74890909e-21   1.43152594e-25\n",
      "   6.09204213e-26   7.72181044e-25   1.03250682e-23   1.40202437e-22\n",
      "   1.92188975e-21   2.63248076e-20   3.54182580e-19   4.54793549e-18\n",
      "   5.29779276e-17   5.06144231e-16   3.03755177e-15  -3.01830340e-16\n",
      "   1.09902445e-17  -1.74663973e-19   1.02240519e-21]\\\\\n",
      "Degree:19\\\\\n",
      "Train:15.8358242625\\\\\n",
      "Test:15.9550205998\\\\\n",
      "Coef:[  1.09721348e-44  -3.80173473e-28  -1.68836187e-32  -5.46659687e-36\n",
      "   1.45912708e-38   2.64070845e-37   7.73757971e-36   2.23663703e-34\n",
      "   6.35375978e-33   1.76457920e-31   4.75650672e-30   1.23161080e-28\n",
      "   3.01607501e-27   6.81360469e-26   1.35910058e-24   2.18837256e-23\n",
      "   2.21986060e-22  -1.46300726e-23   3.16900977e-25  -2.25541643e-27]\\\\\n",
      "Degree:20\\\\\n",
      "Train:15.8358344939\\\\\n",
      "Test:15.9550264602\\\\\n",
      "Coef:[  1.16144638e-47   8.03196982e-30   8.59344924e-34   1.28367662e-36\n",
      "  -2.96853875e-39   2.89867746e-40   8.58237099e-39   2.51480251e-37\n",
      "   7.26966628e-36   2.06518724e-34   5.73554315e-33   1.54605131e-31\n",
      "   4.00322961e-30   9.80346876e-29   2.21469970e-27   4.41763235e-26\n",
      "   7.11310207e-25   7.21543628e-24  -4.75984657e-25   1.03181543e-26\n",
      "  -7.34803958e-29]\\\\\n",
      "Degree:21\\\\\n",
      "Train:15.8358386458\\\\\n",
      "Test:15.9550286554\\\\\n",
      "Coef:[  1.23480922e-50   1.43384821e-30  -5.93199965e-36   1.78108556e-38\n",
      "  -5.26064528e-41   3.13096731e-43   9.43944138e-42   2.79559030e-40\n",
      "   8.19179384e-39   2.36806648e-37   6.72730260e-36   1.86834530e-34\n",
      "   5.03624712e-33   1.30404895e-31   3.19347321e-30   7.21436936e-29\n",
      "   1.43904051e-27   2.31708659e-26   2.35041756e-25  -1.55172618e-26\n",
      "   3.36590504e-28  -2.39825616e-30]\\\\\n",
      "Degree:22\\\\\n",
      "Train:15.8358403672\\\\\n",
      "Test:15.955029486\\\\\n",
      "Coef:[  1.31263710e-53  -5.38892493e-32  -3.23662641e-36   3.15709069e-39\n",
      "   2.62616297e-42   4.17109278e-46   1.02960295e-44   3.07504109e-43\n",
      "   9.10714282e-42   2.66863746e-40   7.71445794e-39   2.19155799e-37\n",
      "   6.08652461e-36   1.64066299e-34   4.24821298e-33   1.04034086e-31\n",
      "   2.35023179e-30   4.68797439e-29   7.54838817e-28   7.65695804e-27\n",
      "  -5.05828127e-28   1.09778541e-29  -7.82520950e-32]\\\\\n"
     ]
    }
   ],
   "source": [
    "while True:\n",
    "    regr = linear_model.LinearRegression(fit_intercept=False)\n",
    "    X = [features(d, deg) for d in train]\n",
    "    y = [d['review/taste'] for d in train]\n",
    "    X_test = [features(d, deg) for d in test]\n",
    "    y_test = [d['review/taste'] for d in test]\n",
    "    regr.fit(X, y)\n",
    "    thisTestingError = np.mean((regr.predict(X_test) - y_test) ** 2)\n",
    "    thisTrainError = np.mean((regr.predict(X)-y) ** 2)\n",
    "    print \"Degree:%s\\\\\\\\\"%(len(X[0])-1)\n",
    "    print \"Train:%s\\\\\\\\\"% thisTrainError\n",
    "    print \"Test:%s\\\\\\\\\"% thisTestingError\n",
    "    print \"Coef:%s\\\\\\\\\"% regr.coef_\n",
    "    if np.fabs(thisTestingError-lastTestingError) < 0.000001:\n",
    "        break\n",
    "    deg = deg + 1\n",
    "    lastTestingError = thisTestingError"
   ]
  },
  {
   "cell_type": "code",
   "execution_count": 108,
   "metadata": {
    "collapsed": false
   },
   "outputs": [
    {
     "name": "stdout",
     "output_type": "stream",
     "text": [
      "[1, 5.0, 25.0, 125.0, 625.0, 3125.0, 15625.0, 78125.0, 390625.0, 1953125.0, 9765625.0, 48828125.0, 244140625.0, 1220703125.0, 6103515625.0, 30517578125.0, 152587890625.0, 762939453125.0, 3814697265625.0, 19073486328125.0, 95367431640625.0, 476837158203125.0, 2384185791015625.0]\n",
      "[1, 6.2, 38.440000000000005, 238.32800000000003, 1477.6336000000001, 9161.32832, 56800.23558400001, 352161.4606208001, 2183401.0558489603, 13537086.546263555, 83929936.58683404, 520365606.8383711, 3226266762.397901, 20002853926.866985, 124017694346.57532, 768909704948.767, 4767240170682.355, 29556889058230.605, 183252712161029.75, 1136166815398384.5, 7044234255469984.0, 4.36742523839139e+16, 2.707803647802662e+17]\n",
      "[  1.31263710e-53  -5.38892493e-32  -3.23662641e-36   3.15709069e-39\n",
      "   2.62616297e-42   4.17109278e-46   1.02960295e-44   3.07504109e-43\n",
      "   9.10714282e-42   2.66863746e-40   7.71445794e-39   2.19155799e-37\n",
      "   6.08652461e-36   1.64066299e-34   4.24821298e-33   1.04034086e-31\n",
      "   2.35023179e-30   4.68797439e-29   7.54838817e-28   7.65695804e-27\n",
      "  -5.05828127e-28   1.09778541e-29  -7.82520950e-32]\n"
     ]
    }
   ],
   "source": [
    "print X[0]\n",
    "print X[1]\n",
    "print regr.coef_"
   ]
  },
  {
   "cell_type": "code",
   "execution_count": 138,
   "metadata": {
    "collapsed": false
   },
   "outputs": [
    {
     "name": "stdout",
     "output_type": "stream",
     "text": [
      "15.8358415497\n",
      "15.8358416122\n"
     ]
    }
   ],
   "source": [
    "print lastTestingError\n",
    "print thisTestingError"
   ]
  },
  {
   "cell_type": "code",
   "execution_count": null,
   "metadata": {
    "collapsed": true
   },
   "outputs": [],
   "source": []
  },
  {
   "cell_type": "code",
   "execution_count": null,
   "metadata": {
    "collapsed": true
   },
   "outputs": [],
   "source": []
  }
 ],
 "metadata": {
  "kernelspec": {
   "display_name": "Python 2",
   "language": "python",
   "name": "python2"
  },
  "language_info": {
   "codemirror_mode": {
    "name": "ipython",
    "version": 2
   },
   "file_extension": ".py",
   "mimetype": "text/x-python",
   "name": "python",
   "nbconvert_exporter": "python",
   "pygments_lexer": "ipython2",
   "version": "2.7.10"
  }
 },
 "nbformat": 4,
 "nbformat_minor": 0
}
