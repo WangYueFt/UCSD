{
 "cells": [
  {
   "cell_type": "code",
   "execution_count": 113,
   "metadata": {
    "collapsed": false
   },
   "outputs": [
    {
     "name": "stdout",
     "output_type": "stream",
     "text": [
      "Reading data...\n",
      "done\n",
      "ll = -2872.40191624\n",
      "ll = -2536.91244544\n",
      "ll = -2307.88483356\n",
      "ll = -2302.59095342\n",
      "ll = -2301.68433071\n",
      "ll = -2300.83583575\n",
      "ll = -2298.83652773\n",
      "ll = -2297.26637853\n",
      "ll = -2297.0754507\n",
      "ll = -2297.07034149\n",
      "ll = -2297.07010839\n",
      "ll = -2297.0700787\n",
      "ll = -2297.06998251\n",
      "ll = -2297.07002084\n",
      "ll = -2297.06998075\n",
      "Final log likelihood = -2297.06998075\n"
     ]
    }
   ],
   "source": [
    "import numpy\n",
    "import urllib\n",
    "import scipy.optimize\n",
    "import random\n",
    "from math import exp\n",
    "from math import log\n",
    "\n",
    "def parseData(fname):\n",
    "  for l in urllib.urlopen(fname):\n",
    "    yield eval(l)\n",
    "\n",
    "print \"Reading data...\"\n",
    "data = list(parseData(\"file:///users/YW/Dropbox/UCSD/FA2015/CSE255/HW/hw1/book_descriptions_50000.json\"))\n",
    "print \"done\"\n",
    "\n",
    "def inner(x,y):\n",
    "  return sum([x[i]*y[i] for i in range(len(x))])\n",
    "\n",
    "def sigmoid(x):\n",
    "  return 1.0 / (1 + exp(-x))\n",
    "\n",
    "# NEGATIVE Log-likelihood\n",
    "def f(theta, X, y, lam):\n",
    "  loglikelihood = 0\n",
    "  for i in range(len(X)):\n",
    "    logit = inner(X[i], theta)\n",
    "    loglikelihood -= log(1 + exp(-logit))\n",
    "    if not y[i]:\n",
    "      loglikelihood -= logit\n",
    "  for k in range(len(theta)):\n",
    "    loglikelihood -= lam * theta[k]*theta[k]\n",
    "  print \"ll =\", loglikelihood\n",
    "  return -loglikelihood\n",
    "\n",
    "# NEGATIVE Derivative of log-likelihood\n",
    "def fprime(theta, X, y, lam):\n",
    "  dl = [0.0]*len(theta)\n",
    "  for i in range(len(X)):\n",
    "    # Fill in code for the derivative\n",
    "    logit = inner(X[i], theta)\n",
    "    for k in range(len(dl)):\n",
    "        dl[k] += (1-sigmoid(logit))*X[i][k]\n",
    "        if not y[i]:\n",
    "            dl[k] -= X[i][k]\n",
    "  for k in range(len(dl)):\n",
    "    dl[k] -= 2*lam*theta[k]\n",
    "  # Negate the return value since we're doing gradient *ascent*\n",
    "  return numpy.array([-x for x in dl])\n",
    "\n",
    "D_child = [d for d in data if \"Children's Books\" in d['categories']]\n",
    "D_notchild =\\\n",
    "  [d for d in data if not(\"Children's Books\" in d['categories'])][:len(D_child)]\n",
    "\n",
    "data = D_child + D_notchild\n",
    "random.seed(0)\n",
    "random.shuffle(data)\n",
    "\n",
    "X = [[1, \"child\" in d['description'], \"magic\" in d['description'], \"funny\" in d['description']] for d in data]\n",
    "y = [\"Children's Books\" in d['categories'] for d in data]\n",
    "\n",
    "X_train = X[:len(X)/2]\n",
    "X_valid = X[len(X)/2:3*len(X)/4]\n",
    "X_test = X[3*len(X)/4:]\n",
    "\n",
    "y_train = y[:len(y)/2]\n",
    "y_valid = y[len(y)/2:3*len(y)/4]\n",
    "y_test = y[3*len(y)/4:]\n",
    "\n",
    "theta,l,info = scipy.optimize.fmin_l_bfgs_b(f, [0]*len(X[0]), fprime, args = (X_train, y_train, 1.0))\n",
    "print \"Final log likelihood =\", -l\n"
   ]
  },
  {
   "cell_type": "code",
   "execution_count": 125,
   "metadata": {
    "collapsed": true
   },
   "outputs": [],
   "source": [
    "from sklearn import linear_model\n",
    "logreg = linear_model.LogisticRegression(fit_intercept=False)"
   ]
  },
  {
   "cell_type": "code",
   "execution_count": 126,
   "metadata": {
    "collapsed": false
   },
   "outputs": [
    {
     "data": {
      "text/plain": [
       "LogisticRegression(C=1.0, class_weight=None, dual=False, fit_intercept=False,\n",
       "          intercept_scaling=1, max_iter=100, multi_class='ovr',\n",
       "          penalty='l2', random_state=None, solver='liblinear', tol=0.0001,\n",
       "          verbose=0)"
      ]
     },
     "execution_count": 126,
     "metadata": {},
     "output_type": "execute_result"
    }
   ],
   "source": [
    "logreg.fit(X_train, y_train)"
   ]
  },
  {
   "cell_type": "code",
   "execution_count": 127,
   "metadata": {
    "collapsed": false
   },
   "outputs": [
    {
     "name": "stdout",
     "output_type": "stream",
     "text": [
      "[[-0.89569608  2.34170254  0.94704375  0.21062554]]\n",
      "[-0.88852315  2.3260095   0.91260868  0.20626077]\n"
     ]
    }
   ],
   "source": [
    "print logreg.coef_\n",
    "print theta"
   ]
  },
  {
   "cell_type": "code",
   "execution_count": 128,
   "metadata": {
    "collapsed": false
   },
   "outputs": [],
   "source": [
    "my_train_predictions = numpy.array([(True if inner(d, theta)>=0 else False) for d in X_train])"
   ]
  },
  {
   "cell_type": "code",
   "execution_count": 129,
   "metadata": {
    "collapsed": true
   },
   "outputs": [],
   "source": [
    "my_test_predictions = numpy.array([(True if inner(d, theta)>=0 else False) for d in X_test])"
   ]
  },
  {
   "cell_type": "code",
   "execution_count": 130,
   "metadata": {
    "collapsed": false
   },
   "outputs": [],
   "source": [
    "my_valid_predictions = numpy.array([(True if inner(d, theta)>=0 else False) for d in X_valid])"
   ]
  },
  {
   "cell_type": "code",
   "execution_count": 131,
   "metadata": {
    "collapsed": true
   },
   "outputs": [],
   "source": [
    "train_predictions = logreg.predict(X_train)\n",
    "test_predictions = logreg.predict(X_test)\n",
    "valid_predictions = logreg.predict(X_valid)"
   ]
  },
  {
   "cell_type": "code",
   "execution_count": 132,
   "metadata": {
    "collapsed": false
   },
   "outputs": [
    {
     "name": "stdout",
     "output_type": "stream",
     "text": [
      "My Train Error:0.251, My Test Error:0.271, My Valid Error:0.251\n",
      "Train Error:0.251, Test Error:0.271, Valid Error:0.251\n"
     ]
    }
   ],
   "source": [
    "print 'My Train Error:%.3f, My Test Error:%.3f, My Valid Error:%.3f'%\\\n",
    "(numpy.mean(my_train_predictions!=y_train),\n",
    "numpy.mean(my_test_predictions!=y_test),\n",
    "numpy.mean(my_valid_predictions!=y_valid))\n",
    "print 'Train Error:%.3f, Test Error:%.3f, Valid Error:%.3f'%\\\n",
    "(numpy.mean(train_predictions!=y_train),\n",
    "numpy.mean(test_predictions!=y_test),\n",
    "numpy.mean(valid_predictions!=y_valid))"
   ]
  },
  {
   "cell_type": "code",
   "execution_count": 134,
   "metadata": {
    "collapsed": false
   },
   "outputs": [
    {
     "name": "stdout",
     "output_type": "stream",
     "text": [
      "0.250965250965\n",
      "0.271235521236\n",
      "0.250965250965\n"
     ]
    }
   ],
   "source": [
    "print 1-logreg.score(X_train, y_train)\n",
    "print 1-logreg.score(X_test, y_test)\n",
    "print 1-logreg.score(X_valid, y_valid)"
   ]
  },
  {
   "cell_type": "code",
   "execution_count": null,
   "metadata": {
    "collapsed": true
   },
   "outputs": [],
   "source": []
  }
 ],
 "metadata": {
  "kernelspec": {
   "display_name": "Python 2",
   "language": "python",
   "name": "python2"
  },
  "language_info": {
   "codemirror_mode": {
    "name": "ipython",
    "version": 2
   },
   "file_extension": ".py",
   "mimetype": "text/x-python",
   "name": "python",
   "nbconvert_exporter": "python",
   "pygments_lexer": "ipython2",
   "version": "2.7.10"
  }
 },
 "nbformat": 4,
 "nbformat_minor": 0
}
